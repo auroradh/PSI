{
 "cells": [
  {
   "cell_type": "code",
   "execution_count": 1,
   "metadata": {},
   "outputs": [
    {
     "name": "stdout",
     "output_type": "stream",
     "text": [
      "Intel MKL WARNING: Support of Intel(R) Streaming SIMD Extensions 4.2 (Intel(R) SSE4.2) enabled only processors has been deprecated. Intel oneAPI Math Kernel Library 2025.0 will require Intel(R) Advanced Vector Extensions (Intel(R) AVX) instructions.\n",
      "Intel MKL WARNING: Support of Intel(R) Streaming SIMD Extensions 4.2 (Intel(R) SSE4.2) enabled only processors has been deprecated. Intel oneAPI Math Kernel Library 2025.0 will require Intel(R) Advanced Vector Extensions (Intel(R) AVX) instructions.\n"
     ]
    }
   ],
   "source": [
    "# Update PATH environment variable\n",
    "import os\n",
    "os.environ['PATH'] = '/opt/homebrew/bin:' + os.environ['PATH']\n",
    "\n",
    "import numpy as np\n",
    "import xarray as xr\n",
    "import matplotlib as mpl\n",
    "import matplotlib.pyplot as plt\n",
    "from pathlib import Path\n",
    "import cosmoplots\n",
    "\n",
    "from scipy.stats import skew, kurtosis\n",
    "\n",
    "from fppanalysis.running_moments import window_radius, run_norm_ds\n",
    "\n",
    "from analysis_functions.constants import greenwald_fraction, shot_time_window\n",
    "from analysis_functions.apd_functions import get_signal, get_time, get_rz, get_rz_full"
   ]
  },
  {
   "cell_type": "markdown",
   "metadata": {},
   "source": [
    "#### At  Z = 0 cm"
   ]
  },
  {
   "cell_type": "code",
   "execution_count": 2,
   "metadata": {},
   "outputs": [],
   "source": [
    "magnetic_connection_length = {\n",
    "    \n",
    "    1160616018: {\n",
    "      0.89: 21.9,\n",
    "      #0.8908: 16.1,\n",
    "      0.891: 15.3,\n",
    "      #0.8911: 15,\n",
    "      0.892: 12.7,\n",
    "      0.893: 11.1,\n",
    "      0.894: 9.95,\n",
    "      0.895: 9.18,\n",
    "      0.896: 8.45,\n",
    "      0.897: 7.94,\n",
    "      0.898: 7.51, \n",
    "      0.899: 7.14,\n",
    "      0.900: 6.81,\n",
    "      0.901: 6.52,\n",
    "      0.902: 6.27,\n",
    "      0.903: 6.04,\n",
    "      0.904: 5.83,\n",
    "      0.905: 5.64,\n",
    "      0.906: 5.47,\n",
    "      0.907: 0.733,\n",
    "      0.908: 0.665,\n",
    "      0.909: 0.607,\n",
    "      0.91: 0.121,\n",
    "    },\n",
    "    1110201016: {\n",
    "      0.893: 11.5,\n",
    "      0.894: 8.15, \n",
    "      0.895: 6.89,\n",
    "      0.896: 6.08,\n",
    "      0.897: 5.5,\n",
    "      0.898: 5.06, \n",
    "      0.899: 4.74,\n",
    "      0.900: 4.48,\n",
    "      0.901: 4.26, \n",
    "      0.902: 4.06,\n",
    "      0.903: 3.89,\n",
    "      0.904: 3.73,\n",
    "      0.905: 3.6, \n",
    "      0.906: 3.48, \n",
    "      0.907: 0.466,\n",
    "      0.908: 0.414,\n",
    "      0.909: 0.378,\n",
    "      0.91: 0.062,\n",
    "      0.911: 0.157, \n",
    "    },\n",
    "    1110201011: {\n",
    "      0.893: np.nan,\n",
    "      0.894: np.nan, \n",
    "      0.895: 6.92,\n",
    "      0.896: 5.67,\n",
    "      0.897: 4.95,\n",
    "      0.898: 4.44, \n",
    "      0.899: 4.06,\n",
    "      0.900: 3.77,\n",
    "      0.901: 3.55, \n",
    "      0.902: 3.37,\n",
    "      0.903: 3.20,\n",
    "      0.904: 3.06,\n",
    "      0.905: 2.94, \n",
    "      0.906: 2.83, \n",
    "      0.907: 0.357,\n",
    "      0.908: 0.324,\n",
    "      0.909: 0.298,\n",
    "      0.91: 0.0553,\n",
    "      0.911: 0.129, \n",
    "    }\n",
    "}"
   ]
  },
  {
   "cell_type": "markdown",
   "metadata": {},
   "source": [
    "#### Z = -2.99 cm"
   ]
  },
  {
   "cell_type": "code",
   "execution_count": 35,
   "metadata": {},
   "outputs": [],
   "source": [
    "\n",
    "magnetic_connection_length = {\n",
    "    1160616018: {\n",
    "      0.89: 14.5,\n",
    "      0.891: 12.2,\n",
    "      0.892: 10.6,\n",
    "      0.893: 9.52,\n",
    "      0.894: 8.72,\n",
    "      0.895: 8.11,\n",
    "      0.896: 7.61,\n",
    "      0.897: 7.18,\n",
    "      0.898: 6.81, \n",
    "      0.899: 6.49,\n",
    "      0.900: 6.21,\n",
    "      0.901: 5.96,\n",
    "      0.902: 5.72,\n",
    "      0.903: 5.53,\n",
    "      0.904: 5.34,\n",
    "      0.905: 5.17,\n",
    "      0.906: 0.441, # (Contour intersects AB limiter)\n",
    "      0.907: 0.374, # (Contour intersects AB limiter)\n",
    "      0.908: 0.319, # (Contour intersects AB limiter)\n",
    "      0.909: 0.12,  # (Contour intersects GH limiter)\n",
    "      0.91: 0.00417,# (Contour intersects GH, AB, K limiter)\n",
    "    },\n",
    "\n",
    "    1110201016: {\n",
    "      0.89: np.nan, # (Starting RZ inside the core)\n",
    "      0.891: np.nan, # (Starting RZ inside the core)\n",
    "      0.892: 9.7,\n",
    "      0.893: 7.54,\n",
    "      0.894: 6.46, \n",
    "      0.895: 5.74,\n",
    "      0.896: 5.2,\n",
    "      0.897: 4.8,\n",
    "      0.898: 4.49, \n",
    "      0.899: 4.24,\n",
    "      0.900: 4.03,\n",
    "      0.901: 3.84, \n",
    "      0.902: 3.67,\n",
    "      0.903: 3.53,\n",
    "      0.904: 2.78,\n",
    "      0.905: 3.27, \n",
    "      0.906: 0.275, # (Contour intersects AB limiter)\n",
    "      0.907: 0.231, # (Contour intersects AB limiter)\n",
    "      0.908: 0.197, # (Contour intersects AB limiter)\n",
    "      0.909: 0.0708, # (Contour intersects GH limiter)\n",
    "      0.91: 0.00255, # (Contour intersects GH, AB, K limiter)\n",
    "    },\n",
    "\n",
    "    1110201011: {\n",
    "      0.89: np.nan, # (Starting RZ inside the core)\n",
    "      0.891: np.nan, # (Starting RZ inside the core)\n",
    "      0.892: np.nan, # (Starting RZ inside the core)\n",
    "      0.893: 10.5,\n",
    "      0.894: 6.44,\n",
    "      0.895: 5.35,\n",
    "      0.896: 4.7,\n",
    "      0.897: 4.21,\n",
    "      0.898: 3.85, \n",
    "      0.899: 3.59,\n",
    "      0.900: 3.37,\n",
    "      0.901: 3.19, \n",
    "      0.902: 3.04,\n",
    "      0.903: 2.9,\n",
    "      0.904: 3.06,\n",
    "      0.905: 2.67, \n",
    "      0.906: 0.213, # (Contour intersects AB limiter)\n",
    "      0.907: 0.182, # (Contour intersects AB limiter)\n",
    "      0.908: 0.156, # (Contour intersects AB limiter)\n",
    "      0.909: 0.0584,# (Contour intersects GH limiter)\n",
    "      0.910: 0.00203,# (Contour intersects GH, AB, K limiter)\n",
    "    }\n",
    "}"
   ]
  },
  {
   "cell_type": "code",
   "execution_count": 36,
   "metadata": {},
   "outputs": [],
   "source": [
    "major_R_by_shot = {}\n",
    "connection_length_by_shot = {}\n",
    "\n",
    "# Iterate over each shot's data\n",
    "for shot_number, values in magnetic_connection_length.items():\n",
    "    # Assign the list of major_R keys to the corresponding shot number\n",
    "    #major_R_to_cm = \n",
    "    major_R_by_shot[shot_number] = list(values.keys())\n",
    "    connection_length_by_shot[shot_number] = list(values.values())"
   ]
  },
  {
   "cell_type": "code",
   "execution_count": 37,
   "metadata": {},
   "outputs": [],
   "source": [
    "shotlist = [1110201016, 1110201011, 1160616018]\n",
    "f_GWs = [greenwald_fraction[shot] for shot in shotlist]\n",
    "marker_list = ['^', 's', 'o']\n",
    "color_list = ['#785EF0', '#DC267F','#FFB000']\n",
    "label_name = ['EDA H', 'ELM-free H', 'Ohmic']"
   ]
  },
  {
   "cell_type": "code",
   "execution_count": 5,
   "metadata": {},
   "outputs": [
    {
     "data": {
      "image/png": "[encoded data removed]",
      "text/plain": [
       "<Figure size 1011x624.831 with 1 Axes>"
      ]
     },
     "metadata": {},
     "output_type": "display_data"
    }
   ],
   "source": [
    "save = False\n",
    "\n",
    "params = {}\n",
    "cosmoplots.set_rcparams_dynamo(params, num_cols=1)\n",
    "plt.style.use([\"cosmoplots.default\"])\n",
    "plt.rcParams['text.latex.preamble'] =  r'\\usepackage{amsmath}' r'\\usepackage{times}' r'\\usepackage{mathptmx}' r'\\usepackage{amssymb}' r'\\newcommand{\\taup}{\\ensuremath{\\tau_\\shortparallel}}' r'\\newcommand{\\wh}{\\widehat}' r'\\newcommand{\\ave}[1]{{\\left<#1\\right>}}'\n",
    "plt.rc('font',family='Times New Roman')\n",
    "\n",
    "fig, ax = plt.subplots()\n",
    "\n",
    "for idx, shot in enumerate(shotlist):\n",
    "  major_R_by_shot_to_cm = [item * 100 for item in major_R_by_shot[shot]]\n",
    "  ax.scatter(major_R_by_shot_to_cm, connection_length_by_shot[shot], color=color_list[idx], marker=marker_list[idx], s=10, label=label_name[idx])\n",
    "ax.legend(borderaxespad=1, frameon=False)\n",
    "ax.set_ylabel(r'$L_{\\parallel}\\,/\\, \\mathrm{m}$')\n",
    "ax.set_xlabel(r'$R\\,/\\,\\mathrm{cm}$')\n",
    "\n",
    "\n",
    "if save == True:\n",
    "    formats = [\"pdf\", \"eps\"]\n",
    "    foldername = '/Users/ahe104/Box/time_delay_estimation/velocity_field/analysis/PSI/'\n",
    "    for fmt in formats:\n",
    "        filename = f'magnetic_connection_length.{fmt}'\n",
    "        fig.savefig(foldername + filename, format=fmt)"
   ]
  },
  {
   "cell_type": "code",
   "execution_count": 65,
   "metadata": {},
   "outputs": [
    {
     "data": {
      "image/png": "[encoded data removed]",
      "text/plain": [
       "<Figure size 1011x624.831 with 1 Axes>"
      ]
     },
     "metadata": {},
     "output_type": "display_data"
    }
   ],
   "source": [
    "save = True\n",
    "Z_pos = 0.299\n",
    "\n",
    "params = {}\n",
    "cosmoplots.set_rcparams_dynamo(params, num_cols=1)\n",
    "plt.style.use([\"cosmoplots.default\"])\n",
    "plt.rcParams['text.latex.preamble'] =  r'\\usepackage{amsmath}' r'\\usepackage{times}' r'\\usepackage{mathptmx}' r'\\usepackage{amssymb}' r'\\newcommand{\\taup}{\\ensuremath{\\tau_\\shortparallel}}' r'\\newcommand{\\wh}{\\widehat}' r'\\newcommand{\\ave}[1]{{\\left<#1\\right>}}'\n",
    "plt.rc('font',family='Times New Roman')\n",
    "\n",
    "fig, ax = plt.subplots()\n",
    "\n",
    "for idx, shot in enumerate(shotlist):\n",
    "  major_R_by_shot_to_cm = [item * 100 for item in major_R_by_shot[shot]]\n",
    "  ax.scatter(major_R_by_shot_to_cm, connection_length_by_shot[shot], color=color_list[idx], marker=marker_list[idx], s=10, label=label_name[idx])\n",
    "ax.legend(borderaxespad=1, frameon=False)\n",
    "ax.set_ylabel(r'$L_{\\parallel}\\,/\\, \\mathrm{m}$')\n",
    "ax.set_xlabel(r'$R\\,/\\,\\mathrm{cm}$')\n",
    "\n",
    "if save == True:\n",
    "    formats = [\"pdf\", \"eps\"]\n",
    "    foldername = '/Users/ahe104/Box/time_delay_estimation/velocity_field/analysis/PSI/'\n",
    "    for fmt in formats:\n",
    "        filename = f'magnetic_connection_length_{Z_pos}.{fmt}'\n",
    "        fig.savefig(foldername + filename, format=fmt)"
   ]
  },
  {
   "cell_type": "code",
   "execution_count": 6,
   "metadata": {},
   "outputs": [],
   "source": [
    "path_LCFS = Path('/Users/ahe104/box/mfe_data/LCFS_limiter')\n",
    "\n",
    "R_LCFS_dict = {}\n",
    "Z_LCFS_dict = {}\n",
    "R_LCFS_mean_dict = {}\n",
    "\n",
    "for shot in shotlist:\n",
    "    LCFS_limiter_data = np.load(\n",
    "        str(path_LCFS)\n",
    "        + \"/\"\n",
    "        + f\"LCFS_limiter_{shot}.npz\"\n",
    "    )\n",
    "\n",
    "    R_limiter = LCFS_limiter_data['R_limiter']\n",
    "    Z_limiter = LCFS_limiter_data['Z_limiter']\n",
    "    R_LCFS = LCFS_limiter_data['R_LCFS']\n",
    "    Z_LCFS = LCFS_limiter_data['Z_LCFS']\n",
    "    R_LCFS_mean = LCFS_limiter_data['R_LCFS_mean']\n",
    "    # R_LCFS_min = LCFS_limiter_data['R_LCFS_min']\n",
    "    # R_LCFS_max = LCFS_limiter_data['R_LCFS_max']\n",
    "\n",
    "    R_LCFS_dict[shot] = R_LCFS\n",
    "    Z_LCFS_dict[shot] = Z_LCFS\n",
    "    R_LCFS_mean_dict[shot] = R_LCFS_mean"
   ]
  },
  {
   "cell_type": "code",
   "execution_count": 42,
   "metadata": {},
   "outputs": [],
   "source": [
    "Z_0_idx = {}\n",
    "\n",
    "# Find index where Z = -3 cm (closest to -2.99 cm)\n",
    "for shot in shotlist: \n",
    "    Z_0_idx[shot] = np.where(Z_LCFS_dict[shot] == -3)[0][0]\n",
    "\n",
    "Z_0_idx = 55"
   ]
  },
  {
   "cell_type": "code",
   "execution_count": null,
   "metadata": {},
   "outputs": [],
   "source": [
    "# Make average of L_parallel only inside SOL\n",
    "R_LCFS_mean_list = []\n",
    "for shot in shotlist: \n",
    "    R_LCFS_mean_list.append(R_LCFS_mean_dict[shot][Z_0_idx][0])"
   ]
  },
  {
   "cell_type": "code",
   "execution_count": 64,
   "metadata": {},
   "outputs": [
    {
     "name": "stdout",
     "output_type": "stream",
     "text": [
      "[89.0, 89.1, 89.2, 89.3, 89.4, 89.5, 89.60000000000001, 89.7, 89.8, 89.9, 90.0, 90.10000000000001, 90.2, 90.3, 90.4, 90.5, 90.60000000000001, 90.7, 90.8, 90.9, 91.0]\n",
      "[nan, nan, 9.7, 7.54, 6.46, 5.74, 5.2, 4.8, 4.49, 4.24, 4.03, 3.84, 3.67, 3.53, 2.78, 3.27, 0.275, 0.231, 0.197, 0.0708, 0.00255]\n",
      "4.693333333333334\n",
      "[89.0, 89.1, 89.2, 89.3, 89.4, 89.5, 89.60000000000001, 89.7, 89.8, 89.9, 90.0, 90.10000000000001, 90.2, 90.3, 90.4, 90.5, 90.60000000000001, 90.7, 90.8, 90.9, 91.0]\n",
      "[nan, nan, nan, 10.5, 6.44, 5.35, 4.7, 4.21, 3.85, 3.59, 3.37, 3.19, 3.04, 2.9, 3.06, 2.67, 0.213, 0.182, 0.156, 0.0584, 0.00203]\n",
      "4.516666666666667\n",
      "[89.0, 89.1, 89.2, 89.3, 89.4, 89.5, 89.60000000000001, 89.7, 89.8, 89.9, 90.0, 90.10000000000001, 90.2, 90.3, 90.4, 90.5, 90.60000000000001, 90.7, 90.8, 90.9, 91.0]\n",
      "[14.5, 12.2, 10.6, 9.52, 8.72, 8.11, 7.61, 7.18, 6.81, 6.49, 6.21, 5.96, 5.72, 5.53, 5.34, 5.17, 0.441, 0.374, 0.319, 0.12, 0.00417]\n",
      "8.033333333333333\n"
     ]
    }
   ],
   "source": [
    "for shot in shotlist:\n",
    "    print(major_R_by_shot_to_cm)\n",
    "    print(connection_length_by_shot[shot])\n",
    "    if shot == 1160616018:\n",
    "        L_parallel_idx = 0\n",
    "    else:\n",
    "        L_parallel_idx = np.where(major_R_by_shot_to_cm == np.round(R_LCFS_mean_dict[shot][Z_0_idx][0], 1))[0][0]\n",
    "    print(np.nanmean(connection_length_by_shot[shot][L_parallel_idx:15]))"
   ]
  },
  {
   "cell_type": "code",
   "execution_count": 58,
   "metadata": {},
   "outputs": [
    {
     "name": "stdout",
     "output_type": "stream",
     "text": [
      "5.17\n",
      "90.5\n"
     ]
    }
   ],
   "source": [
    "print(connection_length_by_shot[shot][15])\n",
    "print(major_R_by_shot_to_cm[15])"
   ]
  },
  {
   "cell_type": "code",
   "execution_count": 47,
   "metadata": {},
   "outputs": [
    {
     "name": "stdout",
     "output_type": "stream",
     "text": [
      "[89.0, 89.1, 89.2, 89.3, 89.4, 89.5, 89.60000000000001, 89.7, 89.8, 89.9, 90.0, 90.10000000000001, 90.2, 90.3, 90.4, 90.5, 90.60000000000001, 90.7, 90.8, 90.9, 91.0]\n"
     ]
    }
   ],
   "source": [
    "major_R_by_shot_to_cm = [item * 100 for item in major_R_by_shot[shot]]\n",
    "print(major_R_by_shot_to_cm)"
   ]
  },
  {
   "cell_type": "code",
   "execution_count": 56,
   "metadata": {},
   "outputs": [
    {
     "name": "stdout",
     "output_type": "stream",
     "text": [
      "3\n"
     ]
    }
   ],
   "source": [
    "L_parallel_idx = np.where(major_R_by_shot_to_cm == np.round(R_LCFS_mean_dict[1110201016][Z_0_idx][0], 1))[0][0]\n",
    "print(L_parallel_idx[0][0])"
   ]
  },
  {
   "cell_type": "code",
   "execution_count": 45,
   "metadata": {},
   "outputs": [
    {
     "name": "stdout",
     "output_type": "stream",
     "text": [
      "89.28241265306775\n",
      "89.2006591135191\n",
      "88.75994061698682\n",
      "90.90531676349711\n"
     ]
    }
   ],
   "source": [
    "print(R_LCFS_mean_dict[1110201016][Z_0_idx][0])\n",
    "print(R_LCFS_mean_dict[1110201011][Z_0_idx][0])\n",
    "print(R_LCFS_mean_dict[1160616018][Z_0_idx][0])\n",
    "print(R_limiter[Z_0_idx])"
   ]
  },
  {
   "cell_type": "markdown",
   "metadata": {},
   "source": [
    "### Find SOL gap "
   ]
  },
  {
   "cell_type": "code",
   "execution_count": 66,
   "metadata": {},
   "outputs": [
    {
     "name": "stdout",
     "output_type": "stream",
     "text": [
      "{1110201016: 1.62290411042936, 1110201011: 1.7046576499780173, 1160616018: 2.145376146510287}\n"
     ]
    }
   ],
   "source": [
    "SOL_gap = {}\n",
    "\n",
    "for shot in shotlist:\n",
    "    SOL_gap[shot] = R_limiter[Z_0_idx] - R_LCFS_mean_dict[shot][Z_0_idx][0]\n",
    "\n",
    "print(SOL_gap)"
   ]
  },
  {
   "cell_type": "code",
   "execution_count": 67,
   "metadata": {},
   "outputs": [
    {
     "data": {
      "text/plain": [
       "90.90531676349711"
      ]
     },
     "execution_count": 67,
     "metadata": {},
     "output_type": "execute_result"
    }
   ],
   "source": [
    "R_limiter[Z_0_idx]"
   ]
  },
  {
   "cell_type": "code",
   "execution_count": 31,
   "metadata": {},
   "outputs": [
    {
     "name": "stdout",
     "output_type": "stream",
     "text": [
      "{1110201016: 1.6511039452603313, 1110201011: 1.7375029044201824, 1160616018: 2.1434856371930096}\n"
     ]
    }
   ],
   "source": [
    "print(SOL_gap)"
   ]
  },
  {
   "cell_type": "markdown",
   "metadata": {},
   "source": [
    "#### Calculate average magnetic connection length inside SOL"
   ]
  },
  {
   "cell_type": "code",
   "execution_count": 34,
   "metadata": {},
   "outputs": [
    {
     "name": "stdout",
     "output_type": "stream",
     "text": [
      "[21.9, 15.3, 12.7, 11.1, 9.95, 9.18, 8.45, 7.94, 7.51, 7.14, 6.81, 6.52, 6.27, 6.04, 5.83, 5.64, 5.47, 0.733, 0.665, 0.607, 0.121]\n",
      "[89.0, 89.1, 89.2, 89.3, 89.4, 89.5, 89.60000000000001, 89.7, 89.8, 89.9, 90.0, 90.10000000000001, 90.2, 90.3, 90.4, 90.5, 90.60000000000001, 90.7, 90.8, 90.9, 91.0]\n"
     ]
    }
   ],
   "source": [
    "print(connection_length_by_shot[shot])\n",
    "major_R_by_shot_to_cm = [item * 100 for item in major_R_by_shot[shot]]\n",
    "print(major_R_by_shot_to_cm)"
   ]
  },
  {
   "cell_type": "code",
   "execution_count": null,
   "metadata": {},
   "outputs": [],
   "source": []
  }
 ],
 "metadata": {
  "kernelspec": {
   "display_name": "fpp",
   "language": "python",
   "name": "python3"
  },
  "language_info": {
   "codemirror_mode": {
    "name": "ipython",
    "version": 3
   },
   "file_extension": ".py",
   "mimetype": "text/x-python",
   "name": "python",
   "nbconvert_exporter": "python",
   "pygments_lexer": "ipython3",
   "version": "3.10.13"
  }
 },
 "nbformat": 4,
 "nbformat_minor": 2
}
